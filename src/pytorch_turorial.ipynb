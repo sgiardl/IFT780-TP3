{
 "cells": [
  {
   "cell_type": "markdown",
   "metadata": {},
   "source": [
    "# Tutoriel pytorch - TP3 - IFT725\n",
    "\n",
    "Tel que mentionné dans l'énoncé du travail, vous devez recopier les blocs de code du tutoriel suivant\n",
    "\n",
    "https://pytorch.org/tutorials/beginner/pytorch_with_examples.html\n",
    "\n",
    "en donnant, pour chaque bloc, une description en format \"markdown\" de son contenu."
   ]
  },
  {
   "cell_type": "markdown",
   "metadata": {},
   "source": [
    "# 1. Tensors"
   ]
  },
  {
   "cell_type": "markdown",
   "metadata": {},
   "source": [
    "---"
   ]
  },
  {
   "cell_type": "markdown",
   "metadata": {},
   "source": [
    "## 1.1 Warm-up: numpy"
   ]
  },
  {
   "cell_type": "markdown",
   "metadata": {},
   "source": [
    "### Fonctionnement global du code"
   ]
  },
  {
   "cell_type": "markdown",
   "metadata": {},
   "source": [
    "**\"Numpy\"** est une bibliothèque qui prend en charge des tableaux et matrices, ainsi qu'une multitude de fonctions mathématiques opérant sur ces tableaux. Donc, elle n'est pas destinée pour implémenter des modèles d'apprentissage automatique. Toutefois, le code suivant est un exemple qui montre qu'on peut implémenter un modèle de **régression polynomiale** d’ordre 3 capable de prédire la valeur de la fonction **sinus**.\n",
    "D'abord, on commence par définir les variables \"x\" et \"y\" (données d'entraînement) qui représentent l'entrée et la sortie cible du modèle, \"a\", \"b\", \"c\" et \"d\" qui sont les poids à apprendre par le modèle (initialisés aléatoirement) et \"y_pred\" qui est la prédiction du réseau. Le  processus d'apprentissage s'effectue par la minimisation d'une fonction d'erreur **\"Distance euclidienne\"** à travers un algorithme d'optimisation différentiable **\"Descente de gradient\"**."
   ]
  },
  {
   "cell_type": "markdown",
   "metadata": {},
   "source": [
    "### Principales variables"
   ]
  },
  {
   "cell_type": "markdown",
   "metadata": {},
   "source": [
    "- **x** : ndarray à 1 dimension de taille 2000 d'éléments de type float64. Elle comprend 2000 valeurs aléatoires équidistantes comprises entre $- \\pi$ et $\\pi$ à utiliser pour l'apprentissage du modèle.\n",
    "- **y** : ndarray à 1 dimension de taille 2000 d'éléments de type float64. Elle comprend les valeurs cibles $sin(x)$ à prédire par le modèle.\n",
    "- **a** : float64. C'est le premier poids du modèle initialisé par une valeur aléatoire (c'est le coefficient de $x^{0}$ du polynôme) et calculé lors de la forward pass.\n",
    "- **b** : float64. C'est le deuxième poids du modèle initialisé par une valeur aléatoire (c'est le coefficient de $x^{1}$ du polynôme) et calculé lors de la forward pass.\n",
    "- **c** : float64. C'est le troisième poids du modèle initialisé par une valeur aléatoire (c'est le coefficient de $x^{2}$ du polynôme) et calculé lors de la forward pass.\n",
    "- **d** : float64. C'est le quatrième poids du modèle initialisé par une valeur aléatoire (c'est le coefficient de $x^{3}$ du polynôme) et calculé lors de la forward pass.\n",
    "- **y_pred** : ndarray à 1 dimension de taille 2000 d'éléments de type float64. Elle comprend les prédictions de modèle. Son calcul s'effectue lors de la forward pass.\n",
    "- **loss** : float64. C'est la fonction de perte du modèle \"Distance euclidienne\". Son calcul s'effectue lors de la forward pass.\n",
    "- **grad_y_pred** : ndarray à 1 dimension de taille 2000 d'éléments de type float64. Elle comprend la dérivée de la fonction d'erreur par rapport à la variable de prédiction **y_pred**: $\\frac {dL}{dy_{pred}}$. Son calcul s'effectue lors de la backward pass.\n",
    "- **grad_a** : float64. C'est la dérivée partielle de la fonction d'erreur par rapport au coefficient **a**: $\\frac {dL}{da}$. Son calcul s'effectue lors de la backward pass.\n",
    "- **grad_b** : float64. C'est la dérivée partielle de la fonction d'erreur par rapport au coefficient **b**: $\\frac {dL}{db}$. Son calcul s'effectue lors de la backward pass.\n",
    "- **grad_c** : float64. C'est la dérivée partielle de la fonction d'erreur par rapport au coefficient **c**: $\\frac {dL}{dc}$. Son calcul s'effectue lors de la backward pass.\n",
    "- **grad_d** : float64. C'est la dérivée partielle de la fonction d'erreur par rapport au coefficient **d**: $\\frac {dL}{dd}$. Son calcul s'effectue lors de la backward pass.\n",
    "- **t** : int. C'est une variable comprise entre 0 et 1999, elle représente le compteur d'itérations dans la boucle d'apprentissage.\n",
    "- **learning_rate** : float. C'est le taux d'apprentissage de la descente du gradient, fixé à 1e-6. Il contrôle combien les poids peuvent changer au cours de chaque itération."
   ]
  },
  {
   "cell_type": "markdown",
   "metadata": {},
   "source": [
    "### Code"
   ]
  },
  {
   "cell_type": "code",
   "execution_count": null,
   "metadata": {},
   "outputs": [],
   "source": [
    "# -*- coding: utf-8 -*-\n",
    "import numpy as np\n",
    "import math\n",
    "\n",
    "# Create random input and output data\n",
    "x = np.linspace(-math.pi, math.pi, 2000)\n",
    "y = np.sin(x)\n",
    "\n",
    "# Randomly initialize weights\n",
    "a = np.random.randn()\n",
    "b = np.random.randn()\n",
    "c = np.random.randn()\n",
    "d = np.random.randn()\n",
    "\n",
    "learning_rate = 1e-6\n",
    "for t in range(2000):\n",
    "    # Forward pass: compute predicted y\n",
    "    # y = a + b x + c x^2 + d x^3\n",
    "    y_pred = a + b * x + c * x ** 2 + d * x ** 3\n",
    "\n",
    "    # Compute and print loss\n",
    "    loss = np.square(y_pred - y).sum()\n",
    "    if t % 100 == 99:\n",
    "        print(t, loss)\n",
    "\n",
    "    # Backprop to compute gradients of a, b, c, d with respect to loss\n",
    "    grad_y_pred = 2.0 * (y_pred - y)\n",
    "    grad_a = grad_y_pred.sum()\n",
    "    grad_b = (grad_y_pred * x).sum()\n",
    "    grad_c = (grad_y_pred * x ** 2).sum()\n",
    "    grad_d = (grad_y_pred * x ** 3).sum()\n",
    "\n",
    "    # Update weights\n",
    "    a -= learning_rate * grad_a\n",
    "    b -= learning_rate * grad_b\n",
    "    c -= learning_rate * grad_c\n",
    "    d -= learning_rate * grad_d\n",
    "\n",
    "print(f'Result: y = {a} + {b} x + {c} x^2 + {d} x^3')"
   ]
  },
  {
   "cell_type": "markdown",
   "metadata": {},
   "source": [
    "## 1.2 PyTorch: Tensors"
   ]
  },
  {
   "cell_type": "markdown",
   "metadata": {},
   "source": [
    "### Fonctionnement global du code"
   ]
  },
  {
   "cell_type": "markdown",
   "metadata": {},
   "source": [
    "La bibliothèque **\"Numpy\"** est incapable d'effectuer des calculs sur des processeurs graphiques. Ce code nous introduit à un nouveau type d'objets: **les tenseurs**. Maintenant, on entraine comme l'étape précédente un modèle de **régression polynomiale** d’ordre 3 capable de prédire la valeur de la fonction **sinus** mais on remplace les **ndarray** de la bibliothèque **\"Numpy\"** par des **tensors** de la bibliothèque **\"Pytorch\"**. Cette dernière nous permet d'entraîner le modèle sur un **GPU**."
   ]
  },
  {
   "cell_type": "markdown",
   "metadata": {},
   "source": [
    "### Principales variables"
   ]
  },
  {
   "cell_type": "markdown",
   "metadata": {},
   "source": [
    "- **dtype** : torch.dtype, fixé à torch.float. C'est un objet qui représente le type de données d'une torch.Tensor.\n",
    "- **device** : torch.device. C'est un objet représentant l'appareil sur lequel une torch.Tensor est ou sera allouée (CPU ou GPU). selon ce code, les torch.Tensor peuvent être envoyés au CPU ou GPU (cuda:0), ce qui signifie \"type='cuda', index=0\".\n",
    "- **x** : torch.FloatTensor, rang 1, de taille 2000 d'éléments de type float32. Elle comprend 2000 valeurs aléatoires équidistantes comprises entre $- \\pi$ et $\\pi$ à utiliser pour l'apprentissage du modèle.\n",
    "- **y** : torch.FloatTensor, rang 1, de taille 2000 d'éléments de type float32. Elle comprend les valeurs cibles $sin(x)$ à prédire par le modèle.\n",
    "- **a** : torch.FloatTensor, rang 0. C'est le premier poids du modèle initialisé par une valeur aléatoire (c'est le coefficient de $x^{0}$ du polynôme) et calculé lors de la forward pass.\n",
    "- **b** : torch.FloatTensor, rang 0. C'est le deuxième poids du modèle initialisé par une valeur aléatoire (c'est le coefficient de $x^{1}$ du polynôme) et calculé lors de la forward pass.\n",
    "- **c** : torch.FloatTensor, rang 0. C'est le troisième poids du modèle initialisé par une valeur aléatoire (c'est le coefficient de $x^{2}$ du polynôme) et calculé lors de la forward pass.\n",
    "- **d** : torch.FloatTensor, rang 0. C'est le quatrième poids du modèle initialisé par une valeur aléatoire (c'est le coefficient de $x^{3}$ du polynôme) et calculé lors de la forward pass.\n",
    "- **y_pred** : torch.FloatTensor, rang 1, de taille 2000 d'éléments de type float32. Elle comprend les prédictions de modèle. Son calcul s'effectue lors de la forward pass.\n",
    "- **loss** : float. C'est la fonction de perte du modèle \"Distance euclidienne\". Son calcul s'effectue lors de la forward pass.\n",
    "- **grad_y_pred** : torch.FloatTensor, rang 1, de taille 2000 d'éléments de type float32. Elle comprend la dérivée de la fonction d'erreur par rapport à la variable de prédiction **y_pred**: $\\frac {dL}{dy_{pred}}$. Son calcul s'effectue lors de la backward pass.\n",
    "- **grad_a** : torch.FloatTensor, rang 0. C'est la dérivée partielle de la fonction d'erreur par rapport au coefficient **a**: $\\frac {dL}{da}$. Son calcul s'effectue lors de la backward pass.\n",
    "- **grad_b** : torch.FloatTensor, rang 0. C'est la dérivée partielle de la fonction d'erreur par rapport au coefficient **b**: $\\frac {dL}{db}$. Son calcul s'effectue lors de la backward pass.\n",
    "- **grad_c** : torch.FloatTensor, rang 0. C'est la dérivée partielle de la fonction d'erreur par rapport au coefficient **c**: $\\frac {dL}{dc}$. Son calcul s'effectue lors de la backward pass.\n",
    "- **grad_d** : torch.FloatTensor, rang 0. C'est la dérivée partielle de la fonction d'erreur par rapport au coefficient **d**: $\\frac {dL}{dd}$. Son calcul s'effectue lors de la backward pass.\n",
    "- **t** : int. C'est une variable comprise entre 0 et 1999, elle représente le compteur d'itérations dans la boucle d'apprentissage.\n",
    "- **learning_rate** : float. C'est le taux d'apprentissage de la descente du gradient, fixé à 1e-6. Il contrôle combien les poids peuvent changer au cours de chaque itération."
   ]
  },
  {
   "cell_type": "markdown",
   "metadata": {},
   "source": [
    "### Code"
   ]
  },
  {
   "cell_type": "code",
   "execution_count": null,
   "metadata": {},
   "outputs": [],
   "source": [
    "# -*- coding: utf-8 -*-\n",
    "\n",
    "import torch\n",
    "import math\n",
    "\n",
    "\n",
    "dtype = torch.float\n",
    "device = torch.device(\"cpu\")\n",
    "# device = torch.device(\"cuda:0\") # Uncomment this to run on GPU\n",
    "\n",
    "# Create random input and output data\n",
    "x = torch.linspace(-math.pi, math.pi, 2000, device=device, dtype=dtype)\n",
    "y = torch.sin(x)\n",
    "\n",
    "# Randomly initialize weights\n",
    "a = torch.randn((), device=device, dtype=dtype)\n",
    "b = torch.randn((), device=device, dtype=dtype)\n",
    "c = torch.randn((), device=device, dtype=dtype)\n",
    "d = torch.randn((), device=device, dtype=dtype)\n",
    "\n",
    "learning_rate = 1e-6\n",
    "for t in range(2000):\n",
    "    # Forward pass: compute predicted y\n",
    "    y_pred = a + b * x + c * x ** 2 + d * x ** 3\n",
    "\n",
    "    # Compute and print loss\n",
    "    loss = (y_pred - y).pow(2).sum().item()\n",
    "    if t % 100 == 99:\n",
    "        print(t, loss)\n",
    "\n",
    "    # Backprop to compute gradients of a, b, c, d with respect to loss\n",
    "    grad_y_pred = 2.0 * (y_pred - y)\n",
    "    grad_a = grad_y_pred.sum()\n",
    "    grad_b = (grad_y_pred * x).sum()\n",
    "    grad_c = (grad_y_pred * x ** 2).sum()\n",
    "    grad_d = (grad_y_pred * x ** 3).sum()\n",
    "\n",
    "    # Update weights using gradient descent\n",
    "    a -= learning_rate * grad_a\n",
    "    b -= learning_rate * grad_b\n",
    "    c -= learning_rate * grad_c\n",
    "    d -= learning_rate * grad_d\n",
    "\n",
    "\n",
    "print(f'Result: y = {a.item()} + {b.item()} x + {c.item()} x^2 + {d.item()} x^3')"
   ]
  },
  {
   "cell_type": "markdown",
   "metadata": {},
   "source": [
    "# 2. Autograd"
   ]
  },
  {
   "cell_type": "markdown",
   "metadata": {},
   "source": [
    "---"
   ]
  },
  {
   "cell_type": "markdown",
   "metadata": {},
   "source": [
    "## 2.1 PyTorch: Tensors and autograd"
   ]
  },
  {
   "cell_type": "markdown",
   "metadata": {},
   "source": [
    "### Fonctionnement global du code"
   ]
  },
  {
   "cell_type": "markdown",
   "metadata": {},
   "source": [
    "L'implémentation précédente présente une implémentation manuelle du forward et backward pass d'un réseau de neurones. En effet, durant le forward pass, on définit un graphe de calcul dans lequel les noeuds sont des tenseurs et les arêtes sont des fonctions. Ensuite, **Autograd** fournit une différenciation automatique qui automatise le calcul des gradients au cours du backward pass. \n",
    "Dans ce code, on entraine un modèle de **régression polynomiale** d’ordre 3 capable de prédire la valeur de la fonction **sinus** tout en profitant du package **Autograd**."
   ]
  },
  {
   "cell_type": "markdown",
   "metadata": {},
   "source": [
    "### Principales variables"
   ]
  },
  {
   "cell_type": "markdown",
   "metadata": {},
   "source": [
    "- **dtype** : torch.dtype, fixé à torch.float. C'est un objet qui représente le type de données d'une torch.Tensor.\n",
    "- **device** : torch.device. C'est un objet représentant l'appareil sur lequel une torch.Tensor est ou sera allouée (CPU ou GPU). selon ce code, les torch.Tensor peuvent être envoyés au CPU ou GPU (cuda:0), ce qui signifie \"type='cuda', index=0\".\n",
    "- **x** : torch.FloatTensor, rang 1, de taille 2000 d'éléments de type float32. Elle comprend 2000 valeurs aléatoires équidistantes comprises entre $- \\pi$ et $\\pi$ à utiliser pour l'apprentissage du modèle. Elle est définie lors du forward pass avec un paramètre **requires_grad=False** par défaut car on n'a pas besion de calculer son gradient lors du backward pass.\n",
    "- **y** : torch.FloatTensor, rang 1, de taille 2000 d'éléments de type float32. Elle comprend les valeurs cibles $sin(x)$ à prédire par le modèle. Elle est définie lors du forward pass avec un paramètre **requires_grad=False** par défaut car on n'a pas besion de calculer son gradient lors du backward pass.\n",
    "- **a** : torch.FloatTensor, rang 0. C'est le premier poids du modèle initialisé par une valeur aléatoire (c'est le coefficient de $x^{0}$ du polynôme) et calculé lors de la forward pass. Elle est définie lors du forward pass avec un paramètre **requires_grad=True** car on a besoin de calculer son gradient lors du backward pass.\n",
    "- **b** : torch.FloatTensor, rang 0. C'est le deuxième poids du modèle initialisé par une valeur aléatoire (c'est le coefficient de $x^{1}$ du polynôme) et calculé lors de la forward pass. Elle est définie lors du forward pass avec un paramètre **requires_grad=True** car on a besoin de calculer son gradient lors du backward pass.\n",
    "- **c** : torch.FloatTensor, rang 0. C'est le troisième poids du modèle initialisé par une valeur aléatoire (c'est le coefficient de $x^{2}$ du polynôme) et calculé lors de la forward pass. Elle est définie lors du forward pass avec un paramètre **requires_grad=True** car on a besoin de calculer son gradient lors du backward pass.\n",
    "- **d** : torch.FloatTensor, rang 0. C'est le quatrième poids du modèle initialisé par une valeur aléatoire (c'est le coefficient de $x^{3}$ du polynôme) et calculé lors de la forward pass. Elle est définie lors du forward pass avec un paramètre **requires_grad=True** car on a besoin de calculer son gradient lors du backward pass.\n",
    "- **y_pred** : torch.FloatTensor, rang 1, de taille 2000 d'éléments de type float32. Elle comprend les prédictions de modèle. Elle est définie lors du forward pass.\n",
    "- **loss** : torch.FloatTensor, rang 0. C'est la fonction de perte du modèle \"Distance euclidienne\". Elle est définie lors du forward pass.\n",
    "- **t** : int. C'est une variable comprise entre 0 et 1999, elle représente le compteur d'itérations dans la boucle d'apprentissage.\n",
    "- **learning_rate** : float. C'est le taux d'apprentissage de la descente du gradient, fixé à 1e-6. Il contrôle combien les poids peuvent changer au cours de chaque itération."
   ]
  },
  {
   "cell_type": "markdown",
   "metadata": {},
   "source": [
    "### Code"
   ]
  },
  {
   "cell_type": "code",
   "execution_count": null,
   "metadata": {},
   "outputs": [],
   "source": [
    "# -*- coding: utf-8 -*-\n",
    "import torch\n",
    "import math\n",
    "\n",
    "dtype = torch.float\n",
    "device = torch.device(\"cpu\")\n",
    "# device = torch.device(\"cuda:0\")  # Uncomment this to run on GPU\n",
    "\n",
    "# Create Tensors to hold input and outputs.\n",
    "# By default, requires_grad=False, which indicates that we do not need to\n",
    "# compute gradients with respect to these Tensors during the backward pass.\n",
    "x = torch.linspace(-math.pi, math.pi, 2000, device=device, dtype=dtype)\n",
    "y = torch.sin(x)\n",
    "\n",
    "# Create random Tensors for weights. For a third order polynomial, we need\n",
    "# 4 weights: y = a + b x + c x^2 + d x^3\n",
    "# Setting requires_grad=True indicates that we want to compute gradients with\n",
    "# respect to these Tensors during the backward pass.\n",
    "a = torch.randn((), device=device, dtype=dtype, requires_grad=True)\n",
    "b = torch.randn((), device=device, dtype=dtype, requires_grad=True)\n",
    "c = torch.randn((), device=device, dtype=dtype, requires_grad=True)\n",
    "d = torch.randn((), device=device, dtype=dtype, requires_grad=True)\n",
    "\n",
    "learning_rate = 1e-6\n",
    "for t in range(2000):\n",
    "    # Forward pass: compute predicted y using operations on Tensors.\n",
    "    y_pred = a + b * x + c * x ** 2 + d * x ** 3\n",
    "\n",
    "    # Compute and print loss using operations on Tensors.\n",
    "    # Now loss is a Tensor of shape (1,)\n",
    "    # loss.item() gets the scalar value held in the loss.\n",
    "    loss = (y_pred - y).pow(2).sum()\n",
    "    if t % 100 == 99:\n",
    "        print(t, loss.item())\n",
    "\n",
    "    # Use autograd to compute the backward pass. This call will compute the\n",
    "    # gradient of loss with respect to all Tensors with requires_grad=True.\n",
    "    # After this call a.grad, b.grad. c.grad and d.grad will be Tensors holding\n",
    "    # the gradient of the loss with respect to a, b, c, d respectively.\n",
    "    loss.backward()\n",
    "\n",
    "    # Manually update weights using gradient descent. Wrap in torch.no_grad()\n",
    "    # because weights have requires_grad=True, but we don't need to track this\n",
    "    # in autograd.\n",
    "    with torch.no_grad():\n",
    "        a -= learning_rate * a.grad\n",
    "        b -= learning_rate * b.grad\n",
    "        c -= learning_rate * c.grad\n",
    "        d -= learning_rate * d.grad\n",
    "\n",
    "        # Manually zero the gradients after updating weights\n",
    "        a.grad = None\n",
    "        b.grad = None\n",
    "        c.grad = None\n",
    "        d.grad = None\n",
    "\n",
    "print(f'Result: y = {a.item()} + {b.item()} x + {c.item()} x^2 + {d.item()} x^3')"
   ]
  }
 ],
 "metadata": {
  "kernelspec": {
   "display_name": "Python 3",
   "language": "python",
   "name": "python3"
  },
  "language_info": {
   "codemirror_mode": {
    "name": "ipython",
    "version": 3
   },
   "file_extension": ".py",
   "mimetype": "text/x-python",
   "name": "python",
   "nbconvert_exporter": "python",
   "pygments_lexer": "ipython3",
   "version": "3.8.5"
  }
 },
 "nbformat": 4,
 "nbformat_minor": 4
}
