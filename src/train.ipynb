{
 "cells": [
  {
   "cell_type": "markdown",
   "metadata": {
    "id": "sCymwM3sxL1x",
    "colab_type": "text"
   },
   "source": [
    "# Introduction to pytorch model training on colab\n"
   ]
  },
  {
   "cell_type": "markdown",
   "metadata": {
    "id": "k7MdyJ1RrAgB",
    "colab_type": "text"
   },
   "source": [
    "In this notebook we are going to illustrate how to train a pytorch model on colab.\n",
    "We are going to "
   ]
  },
  {
   "cell_type": "markdown",
   "metadata": {
    "id": "MMf4pwzpsF7r",
    "colab_type": "text"
   },
   "source": [
    "### Mounting google drive"
   ]
  },
  {
   "cell_type": "markdown",
   "metadata": {
    "id": "KXdgH_1xGiPv",
    "colab_type": "text"
   },
   "source": [
    "Since source files are stored into the drive, we need first to mount the drive in order to be able to import required files."
   ]
  },
  {
   "cell_type": "code",
   "execution_count": 1,
   "metadata": {
    "id": "7OBFR6JUxmgo",
    "colab_type": "code",
    "colab": {
     "base_uri": "https://localhost:8080/",
     "height": 124.0
    },
    "outputId": "c306c37e-e067-4dd5-c30d-ab65a9914f03",
    "executionInfo": {
     "status": "ok",
     "timestamp": 1.576469123129E12,
     "user_tz": 300.0,
     "elapsed": 27014.0,
     "user": {
      "displayName": "bah Mamadou",
      "photoUrl": "https://lh3.googleusercontent.com/a-/AAuE7mA8STNGqQLHQEXEKVFUTvyI5CR_j1URcnUR_INO=s64",
      "userId": "07628851434803333133"
     }
    }
   },
   "outputs": [
    {
     "name": "stdout",
     "output_type": "stream",
     "text": [
      "Go to this URL in a browser: https://accounts.google.com/o/oauth2/auth?client_id=947318989803-6bn6qk8qdgf4n4g3pfee6491hc0brc4i.apps.googleusercontent.com&redirect_uri=urn%3aietf%3awg%3aoauth%3a2.0%3aoob&response_type=code&scope=email%20https%3a%2f%2fwww.googleapis.com%2fauth%2fdocs.test%20https%3a%2f%2fwww.googleapis.com%2fauth%2fdrive%20https%3a%2f%2fwww.googleapis.com%2fauth%2fdrive.photos.readonly%20https%3a%2f%2fwww.googleapis.com%2fauth%2fpeopleapi.readonly\n",
      "\n",
      "Enter your authorization code:\n",
      "··········\n",
      "Mounted at /content/drive\n"
     ]
    }
   ],
   "source": [
    "from google.colab import drive\n",
    "drive.mount('/content/drive')"
   ]
  },
  {
   "cell_type": "code",
   "execution_count": 0,
   "metadata": {
    "id": "kLEuWs1tyLgo",
    "colab_type": "code",
    "colab": {}
   },
   "outputs": [],
   "source": [
    "# After mounting operation, we navigate through the hierarchy of the directories until we reach the right directory that is the one containing our source files"
   ]
  },
  {
   "cell_type": "markdown",
   "metadata": {
    "id": "a0twoLTYyX2g",
    "colab_type": "text"
   },
   "source": [
    "### Go to right directory\n",
    "\n"
   ]
  },
  {
   "cell_type": "code",
   "execution_count": 3,
   "metadata": {
    "id": "EwmhUZmkyg7y",
    "colab_type": "code",
    "outputId": "aa7c2926-701f-4d78-b362-83de3bc05934",
    "executionInfo": {
     "status": "ok",
     "timestamp": 1.576469125375E12,
     "user_tz": 300.0,
     "elapsed": 29229.0,
     "user": {
      "displayName": "bah Mamadou",
      "photoUrl": "https://lh3.googleusercontent.com/a-/AAuE7mA8STNGqQLHQEXEKVFUTvyI5CR_j1URcnUR_INO=s64",
      "userId": "07628851434803333133"
     }
    },
    "colab": {
     "base_uri": "https://localhost:8080/",
     "height": 34.0
    }
   },
   "outputs": [
    {
     "name": "stdout",
     "output_type": "stream",
     "text": [
      "\u001b[0m\u001b[01;34mdrive\u001b[0m/  \u001b[01;34msample_data\u001b[0m/\n"
     ]
    }
   ],
   "source": [
    "ls"
   ]
  },
  {
   "cell_type": "code",
   "execution_count": 4,
   "metadata": {
    "id": "QVd0HBMazG-r",
    "colab_type": "code",
    "outputId": "afbeff68-ba18-43e8-a585-c0ae20a0fd61",
    "executionInfo": {
     "status": "ok",
     "timestamp": 1.57646912538E12,
     "user_tz": 300.0,
     "elapsed": 29220.0,
     "user": {
      "displayName": "bah Mamadou",
      "photoUrl": "https://lh3.googleusercontent.com/a-/AAuE7mA8STNGqQLHQEXEKVFUTvyI5CR_j1URcnUR_INO=s64",
      "userId": "07628851434803333133"
     }
    },
    "colab": {
     "base_uri": "https://localhost:8080/",
     "height": 34.0
    }
   },
   "outputs": [
    {
     "name": "stdout",
     "output_type": "stream",
     "text": [
      "/content/drive\n"
     ]
    }
   ],
   "source": [
    "cd drive/"
   ]
  },
  {
   "cell_type": "code",
   "execution_count": 5,
   "metadata": {
    "id": "zp5ptcrUzMFU",
    "colab_type": "code",
    "outputId": "0e622937-102f-44ef-f5a7-813f43f09635",
    "executionInfo": {
     "status": "ok",
     "timestamp": 1.576469125382E12,
     "user_tz": 300.0,
     "elapsed": 29209.0,
     "user": {
      "displayName": "bah Mamadou",
      "photoUrl": "https://lh3.googleusercontent.com/a-/AAuE7mA8STNGqQLHQEXEKVFUTvyI5CR_j1URcnUR_INO=s64",
      "userId": "07628851434803333133"
     }
    },
    "colab": {
     "base_uri": "https://localhost:8080/",
     "height": 34.0
    }
   },
   "outputs": [
    {
     "data": {
      "text/plain": [
       "'/content/drive'"
      ]
     },
     "execution_count": 5,
     "metadata": {
      "tags": []
     },
     "output_type": "execute_result"
    }
   ],
   "source": [
    "pwd"
   ]
  },
  {
   "cell_type": "code",
   "execution_count": 6,
   "metadata": {
    "id": "lX0ccjgWzQ_9",
    "colab_type": "code",
    "outputId": "c876660d-d356-4fcd-8866-326336b6254e",
    "executionInfo": {
     "status": "ok",
     "timestamp": 1.576469125384E12,
     "user_tz": 300.0,
     "elapsed": 29196.0,
     "user": {
      "displayName": "bah Mamadou",
      "photoUrl": "https://lh3.googleusercontent.com/a-/AAuE7mA8STNGqQLHQEXEKVFUTvyI5CR_j1URcnUR_INO=s64",
      "userId": "07628851434803333133"
     }
    },
    "colab": {
     "base_uri": "https://localhost:8080/",
     "height": 34.0
    }
   },
   "outputs": [
    {
     "name": "stdout",
     "output_type": "stream",
     "text": [
      "/content/drive/My Drive\n"
     ]
    }
   ],
   "source": [
    "cd 'My Drive'"
   ]
  },
  {
   "cell_type": "code",
   "execution_count": 7,
   "metadata": {
    "id": "JiPPBN0lzhaF",
    "colab_type": "code",
    "outputId": "5977a9bc-ac59-44e2-b650-d57a60a468c4",
    "executionInfo": {
     "status": "ok",
     "timestamp": 1.576469125386E12,
     "user_tz": 300.0,
     "elapsed": 29185.0,
     "user": {
      "displayName": "bah Mamadou",
      "photoUrl": "https://lh3.googleusercontent.com/a-/AAuE7mA8STNGqQLHQEXEKVFUTvyI5CR_j1URcnUR_INO=s64",
      "userId": "07628851434803333133"
     }
    },
    "colab": {
     "base_uri": "https://localhost:8080/",
     "height": 34.0
    }
   },
   "outputs": [
    {
     "name": "stdout",
     "output_type": "stream",
     "text": [
      "/content/drive/My Drive/colab\n"
     ]
    }
   ],
   "source": [
    "cd colab"
   ]
  },
  {
   "cell_type": "code",
   "execution_count": 8,
   "metadata": {
    "id": "SLbjgXuhzo89",
    "colab_type": "code",
    "outputId": "cfc71b7a-0105-4a95-ed0f-9bac6baaf5e3",
    "executionInfo": {
     "status": "ok",
     "timestamp": 1.576469125388E12,
     "user_tz": 300.0,
     "elapsed": 29176.0,
     "user": {
      "displayName": "bah Mamadou",
      "photoUrl": "https://lh3.googleusercontent.com/a-/AAuE7mA8STNGqQLHQEXEKVFUTvyI5CR_j1URcnUR_INO=s64",
      "userId": "07628851434803333133"
     }
    },
    "colab": {
     "base_uri": "https://localhost:8080/",
     "height": 34.0
    }
   },
   "outputs": [
    {
     "name": "stdout",
     "output_type": "stream",
     "text": [
      "/content/drive/My Drive/colab/src\n"
     ]
    }
   ],
   "source": [
    "cd src/"
   ]
  },
  {
   "cell_type": "code",
   "execution_count": 9,
   "metadata": {
    "id": "fVyRkIVV0AEO",
    "colab_type": "code",
    "outputId": "eded2e40-dda8-45e0-8673-56294d16a6a9",
    "executionInfo": {
     "status": "ok",
     "timestamp": 1.57646913974E12,
     "user_tz": 300.0,
     "elapsed": 43513.0,
     "user": {
      "displayName": "bah Mamadou",
      "photoUrl": "https://lh3.googleusercontent.com/a-/AAuE7mA8STNGqQLHQEXEKVFUTvyI5CR_j1URcnUR_INO=s64",
      "userId": "07628851434803333133"
     }
    },
    "colab": {
     "base_uri": "https://localhost:8080/",
     "height": 104.0
    }
   },
   "outputs": [
    {
     "name": "stdout",
     "output_type": "stream",
     "text": [
      "CNNTrainTestManager.py  HDF5Dataset.py  train.py         UNetWeightsTesting.pt\n",
      "CnnVanilla.pt           \u001b[0m\u001b[01;34mmodels\u001b[0m/         UNet.pt          utils.py\n",
      "DataManager.py          plot_test.py    UnetWeights2.pt\n",
      "dice_loss.py            \u001b[01;34m__pycache__\u001b[0m/    UnetWeights3.pt\n",
      "fig.png                 train.ipynb     UnetWeights.pt\n"
     ]
    }
   ],
   "source": [
    "ls"
   ]
  },
  {
   "cell_type": "code",
   "execution_count": 0,
   "metadata": {
    "id": "9jusgay2IwW8",
    "colab_type": "code",
    "colab": {}
   },
   "outputs": [],
   "source": [
    "%matplotlib inline"
   ]
  },
  {
   "cell_type": "code",
   "execution_count": 11,
   "metadata": {
    "id": "YUqCReRlFHP-",
    "colab_type": "code",
    "outputId": "d006f7f3-de51-4ddf-959a-7e5f58b0725c",
    "executionInfo": {
     "status": "ok",
     "timestamp": 1.57646914728E12,
     "user_tz": 300.0,
     "elapsed": 51027.0,
     "user": {
      "displayName": "bah Mamadou",
      "photoUrl": "https://lh3.googleusercontent.com/a-/AAuE7mA8STNGqQLHQEXEKVFUTvyI5CR_j1URcnUR_INO=s64",
      "userId": "07628851434803333133"
     }
    },
    "colab": {
     "base_uri": "https://localhost:8080/",
     "height": 295.0
    }
   },
   "outputs": [
    {
     "name": "stdout",
     "output_type": "stream",
     "text": [
      "Collecting auto_tqdm\n",
      "  Downloading https://files.pythonhosted.org/packages/8c/12/cfd386c6df70923fc99342e46667a10750d7db54c11dafcb0d6feedb457b/auto_tqdm-1.0.3.tar.gz\n",
      "Requirement already satisfied: tqdm in /usr/local/lib/python3.6/dist-packages (from auto_tqdm) (4.28.1)\n",
      "Collecting environments_utils\n",
      "  Downloading https://files.pythonhosted.org/packages/3b/e3/9ef8316ea15db2800c43958a7f15ad6ffa330c56c7856efca56908d28aaa/environments_utils-1.0.2.tar.gz\n",
      "Requirement already satisfied: humanize in /usr/local/lib/python3.6/dist-packages (from auto_tqdm) (0.5.1)\n",
      "Building wheels for collected packages: auto-tqdm, environments-utils\n",
      "  Building wheel for auto-tqdm (setup.py) ... \u001b[?25l\u001b[?25hdone\n",
      "  Created wheel for auto-tqdm: filename=auto_tqdm-1.0.3-cp36-none-any.whl size=3285 sha256=90e60ea3207f3d967bf8342db0e2b54aae8e067ec1cf11bfef25e4ca1223b466\n",
      "  Stored in directory: /root/.cache/pip/wheels/a6/42/14/cf41f1bf36c436cc6ba043db91f43353804732efd6448c5e44\n",
      "  Building wheel for environments-utils (setup.py) ... \u001b[?25l\u001b[?25hdone\n",
      "  Created wheel for environments-utils: filename=environments_utils-1.0.2-cp36-none-any.whl size=3780 sha256=b5fa18fb3212f0872dbd2c167fd015f8a8440a91dc656e1346e565505ad4f253\n",
      "  Stored in directory: /root/.cache/pip/wheels/c9/5c/aa/3b12e8481a9c9df27b8aef392d5291d7e3d5bdbb220f43a112\n",
      "Successfully built auto-tqdm environments-utils\n",
      "Installing collected packages: environments-utils, auto-tqdm\n",
      "Successfully installed auto-tqdm-1.0.3 environments-utils-1.0.2\n"
     ]
    }
   ],
   "source": [
    "# google colab may ask to install this library since its not installed by default\n",
    "!pip install auto_tqdm"
   ]
  },
  {
   "cell_type": "markdown",
   "metadata": {
    "id": "W7O3unkXmo14",
    "colab_type": "text"
   },
   "source": [
    "### Training model"
   ]
  },
  {
   "cell_type": "code",
   "execution_count": 14,
   "metadata": {
    "id": "2LYg5wmCGTdd",
    "colab_type": "code",
    "outputId": "1d8e9d4b-8d96-4f7d-f227-8980f076a907",
    "executionInfo": {
     "status": "ok",
     "timestamp": 1.576470004035E12,
     "user_tz": 300.0,
     "elapsed": 551178.0,
     "user": {
      "displayName": "bah Mamadou",
      "photoUrl": "https://lh3.googleusercontent.com/a-/AAuE7mA8STNGqQLHQEXEKVFUTvyI5CR_j1URcnUR_INO=s64",
      "userId": "07628851434803333133"
     }
    },
    "colab": {
     "base_uri": "https://localhost:8080/",
     "height": 469.0
    }
   },
   "outputs": [
    {
     "name": "stdout",
     "output_type": "stream",
     "text": [
      "Using downloaded and verified file: ../data/train_32x32.mat\n",
      "Using downloaded and verified file: ../data/test_32x32.mat\n",
      "Training CnnVanilla on svhn for 10 epochs\n",
      "Epoch: 1 of 10\n",
      "Validation loss 0.607\n",
      "Epoch: 2 of 10\n",
      "Validation loss 0.424\n",
      "Epoch: 3 of 10\n",
      "Validation loss 0.344\n",
      "Epoch: 4 of 10\n",
      "Validation loss 0.341\n",
      "Epoch: 5 of 10\n",
      "Validation loss 0.321\n",
      "Epoch: 6 of 10\n",
      "Validation loss 0.329\n",
      "Epoch: 7 of 10\n",
      "Validation loss 0.287\n",
      "Epoch: 8 of 10\n",
      "Validation loss 0.287\n",
      "Epoch: 9 of 10\n",
      "Validation loss 0.296\n",
      "Epoch: 10 of 10\n",
      "Validation loss 0.286\n",
      "Finished training.\n",
      "Accuracy of the network on the test set: 91.438\n",
      "<Figure size 1000x500 with 2 Axes>\n"
     ]
    }
   ],
   "source": [
    "!python train.py --model=CnnVanilla --dataset=svhn --num-epochs=10"
   ]
  },
  {
   "cell_type": "markdown",
   "metadata": {
    "id": "RoiNSI7hXCkc",
    "colab_type": "text"
   },
   "source": [
    "**For some unknown reasons matplotlib doesn't plot figures in google colab, so in ohter to visualize the plots we need to save figure as png first and then plot it using the below snippet of code**"
   ]
  },
  {
   "cell_type": "code",
   "execution_count": 13,
   "metadata": {
    "id": "fIHppyI1CRC8",
    "colab_type": "code",
    "colab": {
     "base_uri": "https://localhost:8080/",
     "height": 517.0
    },
    "outputId": "a712ee95-fe8c-481c-969c-933c364ba362",
    "executionInfo": {
     "status": "ok",
     "timestamp": 1.576469175737E12,
     "user_tz": 300.0,
     "elapsed": 79456.0,
     "user": {
      "displayName": "bah Mamadou",
      "photoUrl": "https://lh3.googleusercontent.com/a-/AAuE7mA8STNGqQLHQEXEKVFUTvyI5CR_j1URcnUR_INO=s64",
      "userId": "07628851434803333133"
     }
    }
   },
   "outputs": [
    {
     "data": {
      "image/png": "[encoded data removed]",
      "text/plain": [
       "<IPython.core.display.Image object>"
      ]
     },
     "execution_count": 13,
     "metadata": {
      "tags": []
     },
     "output_type": "execute_result"
    }
   ],
   "source": [
    "from IPython.display import Image\n",
    "Image('fig.png')"
   ]
  }
 ],
 "metadata": {
  "colab": {
   "name": "train.ipynb",
   "provenance": [],
   "collapsed_sections": [],
   "toc_visible": true
  },
  "kernelspec": {
   "name": "python3",
   "display_name": "Python 3"
  },
  "accelerator": "GPU"
 },
 "nbformat": 4,
 "nbformat_minor": 0
}
